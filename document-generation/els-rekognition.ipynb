{
 "cells": [
  {
   "cell_type": "code",
   "execution_count": 1,
   "metadata": {},
   "outputs": [
    {
     "name": "stdout",
     "output_type": "stream",
     "text": [
      "env: AWS_PROFILE=dev\n"
     ]
    }
   ],
   "source": [
    "from dotenv import load_dotenv\n",
    "\n",
    "load_dotenv()"
   ]
  },
  {
   "cell_type": "code",
   "execution_count": 2,
   "metadata": {},
   "outputs": [
    {
     "name": "stdout",
     "output_type": "stream",
     "text": [
      "2024-01-04 05:42:12 bgp-ls-demo\n",
      "2023-12-11 18:23:17 co-graph-drive-bucket-1\n",
      "2023-06-05 05:14:22 deployed-ignatella-app-pets\n",
      "2023-04-26 01:07:08 deployed-ignatella-tfstate\n",
      "2024-03-18 12:22:52 ignatella-ray\n",
      "2023-06-16 10:25:15 pt-ignatella-tfstate\n",
      "2024-03-26 17:06:02 sagemaker-eu-north-1-422901541742\n",
      "2024-03-26 14:51:07 sagemaker-studio-422901541742-45qvfhp8mmb\n",
      "2024-03-26 14:39:15 sagemaker-studio-422901541742-dy8sadfa9t8\n",
      "2024-03-26 17:05:58 sagemaker-studio-422901541742-ysuogi77x5e\n",
      "2024-03-26 14:39:18 sagemaker-us-east-1-422901541742\n"
     ]
    }
   ],
   "source": [
    "!aws s3 ls"
   ]
  },
  {
   "cell_type": "code",
   "execution_count": 18,
   "metadata": {},
   "outputs": [
    {
     "data": {
      "text/plain": [
       "[{'Name': 'Text',\n",
       "  'Confidence': 99.9988784790039,\n",
       "  'Instances': [],\n",
       "  'Parents': [],\n",
       "  'Aliases': [],\n",
       "  'Categories': [{'Name': 'Text and Documents'}]},\n",
       " {'Name': 'Document',\n",
       "  'Confidence': 97.6944580078125,\n",
       "  'Instances': [],\n",
       "  'Parents': [{'Name': 'Text'}],\n",
       "  'Aliases': [],\n",
       "  'Categories': [{'Name': 'Text and Documents'}]},\n",
       " {'Name': 'Id Cards',\n",
       "  'Confidence': 95.67720031738281,\n",
       "  'Instances': [],\n",
       "  'Parents': [{'Name': 'Document'}, {'Name': 'Text'}],\n",
       "  'Aliases': [],\n",
       "  'Categories': [{'Name': 'Text and Documents'}]},\n",
       " {'Name': 'Driving License',\n",
       "  'Confidence': 93.79573059082031,\n",
       "  'Instances': [{'BoundingBox': {'Width': 0.5638825297355652,\n",
       "     'Height': 0.25640028715133667,\n",
       "     'Left': 0.22039923071861267,\n",
       "     'Top': 0.3404965400695801},\n",
       "    'Confidence': 92.34080505371094}],\n",
       "  'Parents': [{'Name': 'Document'}, {'Name': 'Id Cards'}, {'Name': 'Text'}],\n",
       "  'Aliases': [{'Name': 'License'}],\n",
       "  'Categories': [{'Name': 'Text and Documents'}]},\n",
       " {'Name': 'Face',\n",
       "  'Confidence': 58.0547981262207,\n",
       "  'Instances': [],\n",
       "  'Parents': [{'Name': 'Head'}, {'Name': 'Person'}],\n",
       "  'Aliases': [],\n",
       "  'Categories': [{'Name': 'Person Description'}]},\n",
       " {'Name': 'Head',\n",
       "  'Confidence': 58.0547981262207,\n",
       "  'Instances': [],\n",
       "  'Parents': [{'Name': 'Person'}],\n",
       "  'Aliases': [],\n",
       "  'Categories': [{'Name': 'Person Description'}]},\n",
       " {'Name': 'Person',\n",
       "  'Confidence': 58.0547981262207,\n",
       "  'Instances': [],\n",
       "  'Parents': [],\n",
       "  'Aliases': [{'Name': 'Human'}],\n",
       "  'Categories': [{'Name': 'Person Description'}]}]"
      ]
     },
     "execution_count": 18,
     "metadata": {},
     "output_type": "execute_result"
    }
   ],
   "source": [
    "import boto3\n",
    "\n",
    "client = boto3.client('rekognition', region_name=\"eu-west-1\")\n",
    "\n",
    "with open('./test.jpg', 'rb') as img:\n",
    "    image_bytes = img.read()\n",
    "\n",
    "response = client.detect_labels(Image={'Bytes': image_bytes})\n",
    "\n",
    "response['Labels']"
   ]
  },
  {
   "cell_type": "code",
   "execution_count": null,
   "metadata": {},
   "outputs": [],
   "source": [
    "# find label with name Driving License and get confidence\n",
    "\n",
    "labels = [label for label in response['Labels'] if label['Name'] == 'Driving License']\n",
    "label = labels[0] if labels else None\n",
    "\n",
    "# find bounding box of the label\n",
    "\n",
    "if label:\n",
    "    box = label['Instances'][0]['BoundingBox']\n",
    "    box\n",
    "\n",
    "    # get image size\n",
    "    from PIL import Image\n",
    "\n",
    "    im = Image.open('./test.jpg')\n",
    "    width, height = im.size\n",
    "\n",
    "    # calculate bounding box coordinates\n",
    "    left = box['Left'] * width\n",
    "    top = box['Top'] * height\n",
    "    right = left + box['Width'] * width\n",
    "    bottom = top + box['Height'] * height\n",
    "\n",
    "    left, top, right, bottom\n",
    "\n",
    "    # crop the image\n",
    "    im.crop((left, top, right, bottom)).save('cropped.jpg')\n",
    "\n",
    "    # show the cropped image\n",
    "    from PIL import Image\n",
    "    from IPython.display import display\n",
    "\n",
    "    im = Image.open('cropped.jpg')\n",
    "    display(im)"
   ]
  },
  {
   "cell_type": "code",
   "execution_count": 36,
   "metadata": {},
   "outputs": [
    {
     "data": {
      "text/plain": [
       "[{'Name': 'Driving License',\n",
       "  'Confidence': 93.79573059082031,\n",
       "  'Instances': [{'BoundingBox': {'Width': 0.5638825297355652,\n",
       "     'Height': 0.25640028715133667,\n",
       "     'Left': 0.22039923071861267,\n",
       "     'Top': 0.3404965400695801},\n",
       "    'Confidence': 92.34080505371094}],\n",
       "  'Parents': [{'Name': 'Document'}, {'Name': 'Id Cards'}, {'Name': 'Text'}],\n",
       "  'Aliases': [{'Name': 'License'}],\n",
       "  'Categories': [{'Name': 'Text and Documents'}]}]"
      ]
     },
     "execution_count": 36,
     "metadata": {},
     "output_type": "execute_result"
    }
   ],
   "source": [
    "import boto3\n",
    "\n",
    "client = boto3.client('rekognition', region_name=\"eu-west-1\")\n",
    "\n",
    "with open('./test.jpg', 'rb') as img:\n",
    "    image_bytes = img.read()\n",
    "\n",
    "response = client.detect_labels(Image={'Bytes': image_bytes}, Settings={'GeneralLabels': {\"LabelInclusionFilters\":[\"Driving License\"]}})\n",
    "\n",
    "response['Labels']"
   ]
  },
  {
   "cell_type": "code",
   "execution_count": null,
   "metadata": {},
   "outputs": [],
   "source": [
    "from PIL import Image\n",
    "from IPython.display import display\n",
    "\n",
    "label = response['Labels'][0]\n",
    "\n",
    "if len(label['Instances']) > 0:\n",
    "    box = label['Instances'][0]['BoundingBox']\n",
    "\n",
    "    im = Image.open('./test.jpg')\n",
    "    width, height = im.size\n",
    "\n",
    "    # calculate bounding box coordinates\n",
    "    left = box['Left'] * width\n",
    "    top = box['Top'] * height\n",
    "    right = left + box['Width'] * width\n",
    "    bottom = top + box['Height'] * height\n",
    "\n",
    "    left, top, right, bottom\n",
    "\n",
    "    # crop the image\n",
    "    im.crop((left, top, right, bottom)).save('cropped.jpg')\n",
    "\n",
    "    # show the cropped image\n",
    "\n",
    "    im = Image.open('cropped.jpg')\n",
    "    display(im)\n",
    "\n",
    "else:\n",
    "    print('No document found, probably the image is already cropped.')"
   ]
  }
 ],
 "metadata": {
  "kernelspec": {
   "display_name": "MIO",
   "language": "python",
   "name": "python3"
  },
  "language_info": {
   "codemirror_mode": {
    "name": "ipython",
    "version": 3
   },
   "file_extension": ".py",
   "mimetype": "text/x-python",
   "name": "python",
   "nbconvert_exporter": "python",
   "pygments_lexer": "ipython3",
   "version": "3.12.3"
  }
 },
 "nbformat": 4,
 "nbformat_minor": 2
}
