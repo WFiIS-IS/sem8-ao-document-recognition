{
 "cells": [
  {
   "cell_type": "code",
   "execution_count": 1,
   "metadata": {},
   "outputs": [
    {
     "name": "stdout",
     "output_type": "stream",
     "text": [
      "env: AWS_PROFILE=dev\n"
     ]
    }
   ],
   "source": [
    "%env AWS_PROFILE dev"
   ]
  },
  {
   "cell_type": "code",
   "execution_count": 2,
   "metadata": {},
   "outputs": [
    {
     "name": "stdout",
     "output_type": "stream",
     "text": [
      "2024-01-04 05:42:12 bgp-ls-demo\n",
      "2023-12-11 18:23:17 co-graph-drive-bucket-1\n",
      "2023-06-05 05:14:22 deployed-ignatella-app-pets\n",
      "2023-04-26 01:07:08 deployed-ignatella-tfstate\n",
      "2024-03-18 12:22:52 ignatella-ray\n",
      "2023-06-16 10:25:15 pt-ignatella-tfstate\n",
      "2024-03-26 17:06:02 sagemaker-eu-north-1-422901541742\n",
      "2024-03-26 14:51:07 sagemaker-studio-422901541742-45qvfhp8mmb\n",
      "2024-03-26 14:39:15 sagemaker-studio-422901541742-dy8sadfa9t8\n",
      "2024-03-26 17:05:58 sagemaker-studio-422901541742-ysuogi77x5e\n",
      "2024-03-26 14:39:18 sagemaker-us-east-1-422901541742\n"
     ]
    }
   ],
   "source": [
    "!aws s3 ls"
   ]
  },
  {
   "cell_type": "code",
   "execution_count": 10,
   "metadata": {},
   "outputs": [
    {
     "data": {
      "text/plain": [
       "[{'Name': 'Text',\n",
       "  'Confidence': 99.99823760986328,\n",
       "  'Instances': [],\n",
       "  'Parents': [],\n",
       "  'Aliases': [],\n",
       "  'Categories': [{'Name': 'Text and Documents'}]},\n",
       " {'Name': 'Document',\n",
       "  'Confidence': 97.01905059814453,\n",
       "  'Instances': [],\n",
       "  'Parents': [{'Name': 'Text'}],\n",
       "  'Aliases': [],\n",
       "  'Categories': [{'Name': 'Text and Documents'}]},\n",
       " {'Name': 'Driving License',\n",
       "  'Confidence': 96.14583587646484,\n",
       "  'Instances': [{'BoundingBox': {'Width': 0.3484900891780853,\n",
       "     'Height': 0.2951644957065582,\n",
       "     'Left': 0.367084801197052,\n",
       "     'Top': 0.3945915699005127},\n",
       "    'Confidence': 92.61571502685547}],\n",
       "  'Parents': [{'Name': 'Document'}, {'Name': 'Id Cards'}, {'Name': 'Text'}],\n",
       "  'Aliases': [{'Name': 'License'}],\n",
       "  'Categories': [{'Name': 'Text and Documents'}]},\n",
       " {'Name': 'Id Cards',\n",
       "  'Confidence': 96.14583587646484,\n",
       "  'Instances': [],\n",
       "  'Parents': [{'Name': 'Document'}, {'Name': 'Text'}],\n",
       "  'Aliases': [],\n",
       "  'Categories': [{'Name': 'Text and Documents'}]},\n",
       " {'Name': 'Face',\n",
       "  'Confidence': 58.236915588378906,\n",
       "  'Instances': [],\n",
       "  'Parents': [{'Name': 'Head'}, {'Name': 'Person'}],\n",
       "  'Aliases': [],\n",
       "  'Categories': [{'Name': 'Person Description'}]},\n",
       " {'Name': 'Head',\n",
       "  'Confidence': 58.236915588378906,\n",
       "  'Instances': [],\n",
       "  'Parents': [{'Name': 'Person'}],\n",
       "  'Aliases': [],\n",
       "  'Categories': [{'Name': 'Person Description'}]},\n",
       " {'Name': 'Person',\n",
       "  'Confidence': 58.236915588378906,\n",
       "  'Instances': [],\n",
       "  'Parents': [],\n",
       "  'Aliases': [{'Name': 'Human'}],\n",
       "  'Categories': [{'Name': 'Person Description'}]}]"
      ]
     },
     "execution_count": 10,
     "metadata": {},
     "output_type": "execute_result"
    }
   ],
   "source": [
    "import boto3\n",
    "\n",
    "client = boto3.client('rekognition', region_name=\"eu-west-1\")\n",
    "\n",
    "with open('./test3.png', 'rb') as img:\n",
    "    image_bytes = img.read()\n",
    "\n",
    "response = client.detect_labels(Image={'Bytes': image_bytes})\n",
    "\n",
    "response['Labels']"
   ]
  },
  {
   "cell_type": "code",
   "execution_count": null,
   "metadata": {},
   "outputs": [],
   "source": []
  }
 ],
 "metadata": {
  "kernelspec": {
   "display_name": "MIO",
   "language": "python",
   "name": "python3"
  },
  "language_info": {
   "codemirror_mode": {
    "name": "ipython",
    "version": 3
   },
   "file_extension": ".py",
   "mimetype": "text/x-python",
   "name": "python",
   "nbconvert_exporter": "python",
   "pygments_lexer": "ipython3",
   "version": "3.10.13"
  }
 },
 "nbformat": 4,
 "nbformat_minor": 2
}
