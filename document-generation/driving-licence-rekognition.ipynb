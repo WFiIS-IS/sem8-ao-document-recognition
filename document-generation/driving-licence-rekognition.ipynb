{
 "cells": [
  {
   "cell_type": "code",
   "execution_count": 4,
   "metadata": {},
   "outputs": [
    {
     "data": {
      "text/plain": [
       "True"
      ]
     },
     "execution_count": 4,
     "metadata": {},
     "output_type": "execute_result"
    }
   ],
   "source": [
    "from dotenv import load_dotenv\n",
    "\n",
    "load_dotenv()"
   ]
  },
  {
   "cell_type": "code",
   "execution_count": 5,
   "metadata": {},
   "outputs": [
    {
     "name": "stdout",
     "output_type": "stream",
     "text": [
      "2024-01-04 04:34:17 bgp-ls-demo\n",
      "2023-12-11 18:23:17 co-graph-drive-bucket-1\n",
      "2023-06-05 05:14:00 deployed-ignatella-app-pets\n",
      "2023-04-25 00:44:39 deployed-ignatella-tfstate\n",
      "2024-03-18 12:13:11 ignatella-ray\n",
      "2023-06-16 10:25:12 pt-ignatella-tfstate\n",
      "2024-03-26 17:05:59 sagemaker-eu-north-1-422901541742\n",
      "2024-03-26 14:51:06 sagemaker-studio-422901541742-45qvfhp8mmb\n",
      "2024-03-26 14:39:14 sagemaker-studio-422901541742-dy8sadfa9t8\n",
      "2024-03-26 17:05:57 sagemaker-studio-422901541742-ysuogi77x5e\n"
     ]
    }
   ],
   "source": [
    "!aws s3 ls"
   ]
  },
  {
   "cell_type": "code",
   "execution_count": 6,
   "metadata": {},
   "outputs": [
    {
     "data": {
      "text/plain": [
       "[{'Name': 'Text',\n",
       "  'Confidence': 99.99976348876953,\n",
       "  'Instances': [],\n",
       "  'Parents': [],\n",
       "  'Aliases': [],\n",
       "  'Categories': [{'Name': 'Text and Documents'}]},\n",
       " {'Name': 'Document',\n",
       "  'Confidence': 98.85714721679688,\n",
       "  'Instances': [],\n",
       "  'Parents': [{'Name': 'Text'}],\n",
       "  'Aliases': [],\n",
       "  'Categories': [{'Name': 'Text and Documents'}]},\n",
       " {'Name': 'Id Cards',\n",
       "  'Confidence': 96.52450561523438,\n",
       "  'Instances': [],\n",
       "  'Parents': [{'Name': 'Document'}, {'Name': 'Text'}],\n",
       "  'Aliases': [],\n",
       "  'Categories': [{'Name': 'Text and Documents'}]},\n",
       " {'Name': 'Driving License',\n",
       "  'Confidence': 95.9981689453125,\n",
       "  'Instances': [{'BoundingBox': {'Width': 0.6353340744972229,\n",
       "     'Height': 0.29270705580711365,\n",
       "     'Left': 0.20309093594551086,\n",
       "     'Top': 0.3542257845401764},\n",
       "    'Confidence': 93.89581298828125}],\n",
       "  'Parents': [{'Name': 'Document'}, {'Name': 'Id Cards'}, {'Name': 'Text'}],\n",
       "  'Aliases': [{'Name': 'License'}],\n",
       "  'Categories': [{'Name': 'Text and Documents'}]}]"
      ]
     },
     "execution_count": 6,
     "metadata": {},
     "output_type": "execute_result"
    }
   ],
   "source": [
    "import boto3\n",
    "\n",
    "client = boto3.client('rekognition', region_name=\"eu-west-1\")\n",
    "\n",
    "image_path = './photo_2024-05-24_02-14-46.jpg'\n",
    "\n",
    "with open(image_path, 'rb') as img:\n",
    "    image_bytes = img.read()\n",
    "\n",
    "response = client.detect_labels(Image={'Bytes': image_bytes})\n",
    "\n",
    "response['Labels']"
   ]
  },
  {
   "cell_type": "code",
   "execution_count": null,
   "metadata": {},
   "outputs": [],
   "source": [
    "# find label with name Driving License and get confidence\n",
    "\n",
    "labels = [label for label in response['Labels'] if label['Name'] == 'Driving License']\n",
    "label = labels[0] if labels else None\n",
    "\n",
    "# find bounding box of the label\n",
    "\n",
    "if label:\n",
    "    box = label['Instances'][0]['BoundingBox']\n",
    "    box\n",
    "\n",
    "    # get image size\n",
    "    from PIL import Image\n",
    "\n",
    "    im = Image.open(image_path)\n",
    "    width, height = im.size\n",
    "\n",
    "    # calculate bounding box coordinates\n",
    "    left = box['Left'] * width\n",
    "    top = box['Top'] * height\n",
    "    right = left + box['Width'] * width\n",
    "    bottom = top + box['Height'] * height\n",
    "\n",
    "    left, top, right, bottom\n",
    "    \n",
    "    # crop the image\n",
    "    im.crop((left, top, right, bottom)).save('cropped.jpg')\n",
    "\n",
    "    # show the cropped image\n",
    "    from PIL import Image\n",
    "    from IPython.display import display\n",
    "\n",
    "    im = Image.open('cropped.jpg')\n",
    "    display(im)"
   ]
  }
 ],
 "metadata": {
  "kernelspec": {
   "display_name": "MIO",
   "language": "python",
   "name": "python3"
  },
  "language_info": {
   "codemirror_mode": {
    "name": "ipython",
    "version": 3
   },
   "file_extension": ".py",
   "mimetype": "text/x-python",
   "name": "python",
   "nbconvert_exporter": "python",
   "pygments_lexer": "ipython3",
   "version": "3.10.13"
  }
 },
 "nbformat": 4,
 "nbformat_minor": 2
}
